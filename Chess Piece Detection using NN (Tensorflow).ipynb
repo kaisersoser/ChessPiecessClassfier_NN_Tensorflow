{
 "cells": [
  {
   "cell_type": "markdown",
   "metadata": {},
   "source": [
    "# Chess Piece identifier using TensorFlow\n",
    "\n",
    "Imagine you see a chess puzzle in a newspaper or on the web. Now imagine if you can take a quick picture and start to evaluate it automatically or manually in a chess program.You will need a tool that can convert a picture into a digital board representation, and in doing so, can identify chess piece types from a picture.\n",
    "\n",
    "<img src=\"images/notebook/ProblemStatement.png\" style=\"width:600px;height:300px;\"/>\n",
    "\n",
    "This project demonstrates how we can use the TensorFlow framework to implement a deep neural network that identifies a type of chess piece. The eventual goal is to wrap this classifier into a REST service that can be called from any chess application that allows a picture of a chess board to be converted into an actual chessboard instance for eventual evaluation in a chess program.\n",
    "\n",
    "This neural network is trained using chess pieces images and labels,  stored in a sqlite database in /db/PiecesSQLite.db\n",
    "\n",
    "The **PiecesSQLite** database has 2 tables:\n",
    "\n",
    "**PiecesTable**: storage of pieces images and labels used to train the network. New pieces can be added to this table. PiecesTable has the following columns:\n",
    "\n",
    "- **PositionID - NVARCHAR(3)** \n",
    "Original position of the piece on a chess board.  Will be used to determine where to place the detected piece back on a new board instance. This field is not used by this NN.\n",
    "\n",
    "- **ImageData - Image/Blob**\n",
    "Stores a blob image of the piece used to train the NN. This image needs to be converted into an np.array to be used by the NN (see tf_db_utils.load_dataset)\n",
    "\n",
    "- **PieceID - Int**\n",
    "Numeric identifier/label of the current piece. Piece identification and labels are stored in **PieceLabels**\n",
    "\n",
    "- **PieceName - NVARCHAR(255)**\n",
    "Name/label of the piece in English. Piece identification and labels are stored in **PieceLabels**\n",
    "\n",
    "**PiecesLabels**: Table mapping the PieceIDs to a text label. PiecesLabels has the following columns:\n",
    "\n",
    "- **PieceID - Int - Primary Key**\n",
    "Integrer representing a type of chess piece. The Pieces are identified as follows:\n",
    "\n",
    "- **PieceID** - **PieceName** - **PieceCode**\n",
    "\n",
    "    - 0 - Empty - EPY\n",
    "    - 1 - White Pawn - WPA\n",
    "    - 2 - White Knight - WKN\n",
    "    - 3 - White Bishop - WBS\n",
    "    - 4 - White Rook - WRK\n",
    "    - 5 - White Queen - WQN\n",
    "    - 6 - White King - WKG\n",
    "    - 7 - Black Pawn - BPA\n",
    "    - 8 - Black Knight - BKN\n",
    "    - 9 - Black Bishop - BBS\n",
    "    - 10 - Black Rook - BRK\n",
    "    - 11 - Black Queen - BQN\n",
    "    - 12 - Black King - BKG\n",
    "\n",
    "Extra special thanks and credit to Prof. Andrew Ng and  Coursera.org for their Machine Learning & Deep Learning courses. The courses gave me the knowledge and inspiration I needed to accomplish this project.\n",
    "\n",
    "**NOTE**\n",
    "Any cell starting with `#TEST Tensorflow CODE` is test code that can be deleted without impacting the NN code."
   ]
  },
  {
   "cell_type": "markdown",
   "metadata": {},
   "source": [
    "## 1 - Import required libraries and dataset for training\n",
    "\n",
    "First, import all required libraries, define random seed value and define reference to the database."
   ]
  },
  {
   "cell_type": "code",
   "execution_count": 1,
   "metadata": {},
   "outputs": [],
   "source": [
    "import math\n",
    "import time\n",
    "import numpy as np\n",
    "import matplotlib.pyplot as plt\n",
    "import tensorflow as tf\n",
    "from io import BytesIO\n",
    "from tf_db_utils import create_connection, load_dataset, select_piece_labels\n",
    "from tf_nn_utils import random_mini_batches, convert_to_one_hot, predict\n",
    "from tensorflow.python.framework import ops\n",
    "\n",
    "# Link to database\n",
    "database=\"db/PiecesSQLite.db\"\n",
    "filename=\"db/trained_weights.npz\"\n",
    "\n",
    "%matplotlib inline\n",
    "random_seed_value = 25\n",
    "np.random.seed(random_seed_value)\n"
   ]
  },
  {
   "cell_type": "markdown",
   "metadata": {},
   "source": [
    "Next, connect to the database and return the training and test set used to train the NN. Refer to tf_db_utils for details"
   ]
  },
  {
   "cell_type": "code",
   "execution_count": 2,
   "metadata": {},
   "outputs": [
    {
     "name": "stdout",
     "output_type": "stream",
     "text": [
      "Size of images dataset:(6720, 64, 64, 3)\n",
      "Size of Labels dataset:(6720, 1)\n",
      "\n",
      "X Training Set Size: (5376, 64, 64, 3)\n",
      "X Test Set Size: (1344, 64, 64, 3)\n",
      "\n",
      "Y Training Set Size: (1, 5376)\n",
      "Y Test Set Size: (1, 1344)\n",
      "Classes: [ 0  1  2  3  4  5  6  7  8  9 10 11 12]\n"
     ]
    }
   ],
   "source": [
    "#Create a connection to the database\n",
    "conn = create_connection(database)\n",
    "\n",
    "# Get the training and test set for X dataset and labels from database\n",
    "X_train_orig, X_test_orig, Y_train_orig, Y_test_orig, classes = load_dataset(conn)\n",
    "\n",
    "print(\"\\nX Training Set Size: \"+str(X_train_orig.shape))\n",
    "print(\"X Test Set Size: \"+str(X_test_orig.shape))\n",
    "\n",
    "print(\"\\nY Training Set Size: \"+str(Y_train_orig.shape))\n",
    "print(\"Y Test Set Size: \"+str(Y_test_orig.shape))\n",
    "\n",
    "print(\"Classes: \"+str(classes))"
   ]
  },
  {
   "cell_type": "markdown",
   "metadata": {},
   "source": [
    "Display a random image and its label from the training set."
   ]
  },
  {
   "cell_type": "code",
   "execution_count": 4,
   "metadata": {
    "scrolled": false
   },
   "outputs": [
    {
     "name": "stdout",
     "output_type": "stream",
     "text": [
      "The piece at position 319 in training set is displayed and is a White Rook piece.\n"
     ]
    },
    {
     "data": {
      "image/png": "[encoded data removed]",
      "text/plain": [
       "<Figure size 432x288 with 1 Axes>"
      ]
     },
     "metadata": {
      "needs_background": "light"
     },
     "output_type": "display_data"
    }
   ],
   "source": [
    "# Example of a picture\n",
    "index = np.random.randint(1,len(X_train_orig))\n",
    "\n",
    "#plt.imshow(Image.open(X_train[0]))\n",
    "#print(X_train[index])\n",
    "\n",
    "plt.imshow(X_train_orig[index])\n",
    "pieceID = np.squeeze(Y_train_orig[:, index])\n",
    "pieceLabel = select_piece_labels(conn, pieceID)\n",
    "\n",
    "print(\"The piece at position \"+str(index)+\" in training set is displayed and is a \"+pieceLabel[0][2]+\" piece.\")\n"
   ]
  },
  {
   "cell_type": "markdown",
   "metadata": {},
   "source": [
    "## 2 - Test TensorFlow Framework\n",
    "\n",
    "Writing and running programs in TensorFlow has the following steps:\n",
    "\n",
    "1. Create Tensors (variables) that are not yet executed/evaluated.\n",
    "2. Write operations between those Tensors.\n",
    "3. Initialize your Tensors.\n",
    "4. Create a Session.\n",
    "5. Run the Session. This will run the operations you'd written above.\n",
    "\n",
    "Here is a simple example computing the loss function, represented as:\n",
    "$$loss = \\mathcal{L}(\\hat{y}, y) = (\\hat y^{(i)} - y^{(i)})^2 \\tag{1}$$"
   ]
  },
  {
   "cell_type": "code",
   "execution_count": 5,
   "metadata": {},
   "outputs": [
    {
     "name": "stdout",
     "output_type": "stream",
     "text": [
      "9\n"
     ]
    }
   ],
   "source": [
    "# TEST Tensorflow CODE\n",
    "# Define y_hat constant and set the value to 36\n",
    "y_hat = tf.constant(36, name='y_hat')\n",
    "# Define y constant and set the value to 39\n",
    "y = tf.constant(39, name='y')\n",
    "\n",
    "# Create a variable for the loss function and compute the loss function\n",
    "loss = tf.Variable((y - y_hat)**2,name='loss')\n",
    "\n",
    "# When init is run latter, \n",
    "#the loss variable will be initialized and ready to be computed\n",
    "init = tf.global_variables_initializer()\n",
    "\n",
    "# Create a session and print the value of the loss function\n",
    "with tf.Session() as sess:\n",
    "    sess.run(init)\n",
    "    print(sess.run(loss))"
   ]
  },
  {
   "cell_type": "markdown",
   "metadata": {},
   "source": [
    "When we created a variable for the loss, we simply defined the loss as a function of other quantities, but did not evaluate its value. \n",
    "\n",
    "To evaluate it, we had to run `init=tf.global_variables_initializer()`. \n",
    "That initialized the loss variable, and in the last line we were finally able to evaluate the value of `loss` and print its value.\n",
    "\n",
    "Now lets show another example computing a simple linear function.\n",
    "\n",
    "Compute $WX + b$ where $W, X$, and $b$ are drawn from a random normal distribution. W is of shape (4, 3), X is (3,1) and b is (4,1). \n",
    "\n",
    "As an example, here is how you would define a constant X that has shape (3,1):\n",
    "\n",
    "X = tf.constant(np.random.randn(3,1), name = \"X\")"
   ]
  },
  {
   "cell_type": "code",
   "execution_count": 6,
   "metadata": {},
   "outputs": [],
   "source": [
    "# TEST Tensorflow CODE\n",
    "def linear_function():\n",
    "    \"\"\"\n",
    "    Implements a linear function:\n",
    "        Initializes W to be a random tensor of shape (4,3)\n",
    "        Initializes X to be a random tensor of shape (3,1)\n",
    "        Initializes b to be a random tensor of shape (4,1)\n",
    "    Returns:\n",
    "        result -- runs the session for Y = WX + b\n",
    "    \"\"\"\n",
    "    \n",
    "    np.random.seed(random_seed_value)\n",
    "    \n",
    "    X = tf.constant(np.random.randn(3,1), name=\"X\")\n",
    "    W = tf.constant(np.random.randn(4,3), name=\"W\")\n",
    "    b = tf.constant(np.random.randn(4,1), name=\"b\")\n",
    "    Y = tf.add(tf.matmul(W,X),b)\n",
    "\n",
    "    # Start Tensorflow Session\n",
    "    sess = tf.Session()\n",
    "    result = sess.run(Y)\n",
    "    \n",
    "    # Close the session\n",
    "    sess.close\n",
    "    \n",
    "    return result"
   ]
  },
  {
   "cell_type": "code",
   "execution_count": 7,
   "metadata": {},
   "outputs": [
    {
     "name": "stdout",
     "output_type": "stream",
     "text": [
      "result = [[-2.17699814]\n",
      " [ 4.67195019]\n",
      " [-1.60211519]\n",
      " [ 0.11339411]]\n"
     ]
    }
   ],
   "source": [
    "print(\"result = \"+str(linear_function()))"
   ]
  },
  {
   "cell_type": "markdown",
   "metadata": {},
   "source": [
    "## 3 - Implement Neural Network helper functions\n",
    "\n",
    "Now lets start implementing some helper functions for our neural network.\n",
    "We will start with defining the sigmoid function.\n",
    "\n",
    "### 3.1 -  Computing the Sigmoid\n",
    "\n",
    "A sigmoid function is a mathematical function having a characteristic \"S\"-shaped curve or sigmoid curve. \n",
    "Often, sigmoid function refers to the special case of the logistic function shown in the first figure and defined by the formula.\n",
    "$$ \\sigma(z) =  \\frac{1}{1+e^{-z}} $$\n",
    "\n",
    "<img src=\"images/notebook/320px-Logistic-curve.svg.png\" style=\"width:300px;height:150px;\"/>\n",
    "\n",
    "\n",
    "Sigmoid is used in the neural network to determine the predict a value `y` is equal to a binomial value (0 or 1).\n",
    "Typically, the sigmoid function is declared in numpy as follows:\n",
    "\n",
    "`import math\n",
    "def sigmoid(x):\n",
    "  return 1 / (1 + math.exp(-x))`\n",
    "\n",
    "However, for our purposes, we will be using the built-in function `tf.sigmoid(x)` to compute the cost of your neural network:\n"
   ]
  },
  {
   "cell_type": "code",
   "execution_count": 8,
   "metadata": {},
   "outputs": [],
   "source": [
    "# Tensorflow Function: Compute Sigmoid Function\n",
    "def sigmoid(z):\n",
    "    \"\"\"\n",
    "    Computes the sigmoid of z\n",
    "    \n",
    "    Arguments:\n",
    "    z -- input value, scalar or vector\n",
    "    \n",
    "    Returns: \n",
    "    results -- the sigmoid of z\n",
    "    \"\"\"\n",
    "    \n",
    "    # Create a placeholder for X, name it 'x'\n",
    "    x = tf.placeholder(tf.float32, name=\"x\")\n",
    "    \n",
    "    #compute sigmoid(x)\n",
    "    sigmoid = tf.sigmoid(x)\n",
    "    \n",
    "    #Create a session and run it.\n",
    "    with tf.Session() as sess:\n",
    "        result = sess.run(sigmoid, feed_dict = {x: z})\n",
    "        \n",
    "    return result"
   ]
  },
  {
   "cell_type": "code",
   "execution_count": 9,
   "metadata": {},
   "outputs": [
    {
     "name": "stdout",
     "output_type": "stream",
     "text": [
      "sigmoid(0) = 0.5\n",
      "sigmoid(12) = 0.9999938\n"
     ]
    }
   ],
   "source": [
    "print (\"sigmoid(0) = \" +str(sigmoid(0))) \n",
    "print (\"sigmoid(12) = \"+str(sigmoid(12)))"
   ]
  },
  {
   "cell_type": "markdown",
   "metadata": {},
   "source": [
    "### 1.3 -  Computing the Cost\n",
    "\n",
    "Next we are going to implement the logistic regression, cross entropy loss/cost function:\n",
    "\n",
    "$$ J(w,b) = \\sum_{i = 1}^m \\mathcal{L}(\\hat{y^{(i)} }, y^{(i)}) =  - \\frac{1}{m}  \\sum_{i = 1}^m  \\large ( \\small y^{(i)} \\log \\sigma(z^{[2](i)}) + (1-y^{(i)})\\log (1-\\sigma(z^{[2](i)})\\large )\\small\\tag{2}$$\n",
    "\n",
    "Typically, the logistic regression cost function is computed as follows:\n",
    "\n",
    "`def compute_cost(AL, Y)\n",
    "    cost = (1./m) * (-np.dot(Y,np.log(AL).T) - np.dot(1-Y, np.log(1-AL).T))\n",
    "    cost = np.squeeze(cost)\n",
    "    return cost`\n",
    " \n",
    "Where \n",
    "- AL -- probability vector corresponding to your label predictions, shape (1, number of examples)\n",
    "- Y -- true \"label\" vector (for example: containing 0 if non-cat, 1 if cat), shape (1, number of examples)\n",
    "\n",
    "However, we will be using the built in tensorflow function:\n",
    "\n",
    "- `tf.nn.sigmoid_cross_entropy_with_logits(logits = ...,  labels = ...)`"
   ]
  },
  {
   "cell_type": "code",
   "execution_count": 10,
   "metadata": {},
   "outputs": [],
   "source": [
    "# Implement the cost function \n",
    "def cost(logits, labels):\n",
    "    \"\"\"\n",
    "    Computes the cost using the sigmoid cross entropy\n",
    "    \n",
    "    Arguments:\n",
    "    logits -- vector containing z, output of the last liner unit (before the final sigmoid activation)\n",
    "    labels -- vector of labels y (1 or 0)\n",
    "    \n",
    "    Note: What we've been calling \"z\" and \"y\" in this class are respectively called \"logits\" and \"labels\"\n",
    "    in the TensorFlow documentation. So the logits will feed into z, and labels into y.\n",
    "    \n",
    "    Returns:\n",
    "    cost -- runs the session of the cost\n",
    "    \"\"\"\n",
    "    \n",
    "    # Create the placeholders for \"logits\" (z) and \"labels\" (y)\n",
    "    z = tf.placeholder(tf.float32, name=\"z\")\n",
    "    y = tf.placeholder(tf.float32, name=\"y\")\n",
    "    \n",
    "    # Use the loss function (approx. 1 line)\n",
    "    cost = tf.nn.sigmoid_cross_entropy_with_logits(logits=z, labels=y)\n",
    "    \n",
    "    # Create a session and run it.\n",
    "    with tf.Session() as sess:\n",
    "        cost = sess.run(cost, feed_dict={z: logits, y: labels})\n",
    "        \n",
    "    return cost"
   ]
  },
  {
   "cell_type": "code",
   "execution_count": 11,
   "metadata": {},
   "outputs": [
    {
     "name": "stdout",
     "output_type": "stream",
     "text": [
      "cost = [1.0053872  1.0366409  0.4138543  0.39956614]\n"
     ]
    }
   ],
   "source": [
    "logits = sigmoid(np.array([0.2,0.4,0.7,0.9]))\n",
    "cost = cost(logits, np.array([0,0,1,1]))\n",
    "print (\"cost = \"+str(cost))"
   ]
  },
  {
   "cell_type": "markdown",
   "metadata": {},
   "source": [
    "### 1.4 -  Implement One-Hot Encoding\n",
    "\n",
    "Remember we have 13 Classes, representing 13 different types of pieces that can be detected:\n",
    "- 0: Empty, 1: White Pawn, 2: White Knight,......7: Black Pawn, 8: Black Knight,...etc\n",
    "\n",
    "Well, since our result is clearly categorical, we need to use one-hot encoding to encode the resulting value `y` which determines the predicted piece\n",
    "\n",
    "Here is an illustration of how One hot encoding works:\n",
    "\n",
    "<img src=\"images/notebook/one-hot.png\" style=\"width:500px;height:300px;\"/>\n",
    "\n",
    "Again, TensorFlow comes pre-packaged with an implementation of one-hot encoding:\n",
    "- tf.one_hot(labels, depth, axis) \n"
   ]
  },
  {
   "cell_type": "code",
   "execution_count": 12,
   "metadata": {},
   "outputs": [],
   "source": [
    "# Implement the function below to take one vector of labels and the total number of classes  CC , \n",
    "# and return the one hot encoding.\n",
    "\n",
    "def one_hot_matrix(labels, C):\n",
    "    \"\"\"\n",
    "    Creates a matrix where the i-th row corresponds the ith class number and the jth column\n",
    "    corresponds to the jth training example.\n",
    "    So if example j had a label i, then entry (i,j) will be 1.\n",
    "    \n",
    "    Arguments:\n",
    "    labels -- vector containing the labels\n",
    "    C -- number of classes, the depth of the one hot dimension\n",
    "    \n",
    "    Returns:\n",
    "    one_hot -- one hot matrix\n",
    "    \"\"\"\n",
    "    \n",
    "    # Create a tf.constant equal to C (depth), name it 'C'\n",
    "    C = tf.constant(C, name=\"C\")\n",
    "    \n",
    "    # Use tf.one_hot, be careful with the axis\n",
    "    one_hot_matrix = tf.one_hot(indices=labels, depth=C, axis=0)\n",
    "    \n",
    "    # Create the session\n",
    "    with tf.Session() as sess:\n",
    "        one_hot = sess.run(one_hot_matrix)\n",
    "    \n",
    "    return one_hot"
   ]
  },
  {
   "cell_type": "code",
   "execution_count": 13,
   "metadata": {},
   "outputs": [
    {
     "name": "stdout",
     "output_type": "stream",
     "text": [
      "one_hot = [[0. 0. 0. 1. 0. 0.]\n",
      " [1. 0. 0. 0. 0. 1.]\n",
      " [0. 1. 0. 0. 1. 0.]\n",
      " [0. 0. 1. 0. 0. 0.]]\n"
     ]
    }
   ],
   "source": [
    "labels = np.array([1,2,3,0,2,1])\n",
    "one_hot = one_hot_matrix(labels, C = 4)\n",
    "print(\"one_hot = \"+str(one_hot))"
   ]
  },
  {
   "cell_type": "markdown",
   "metadata": {},
   "source": [
    "We also need a function that will create an array of ones, using a shape which we want to create."
   ]
  },
  {
   "cell_type": "code",
   "execution_count": 14,
   "metadata": {},
   "outputs": [],
   "source": [
    "def ones(shape):\n",
    "    \"\"\"\n",
    "    Creates an array of ones of dimension shape\n",
    "    \n",
    "    Arguments:\n",
    "    shape -- shape of the array you want to create\n",
    "    \n",
    "    Returns:\n",
    "    ones -- array containing only ones\n",
    "    \"\"\"\n",
    "    \n",
    "    # Create \"ones\" tensor using tf.ones(...)\n",
    "    ones = tf.ones(shape)\n",
    "    \n",
    "    # Create the session\n",
    "    with tf.Session() as sess:\n",
    "        ones = sess.run(ones)\n",
    "        \n",
    "    return ones"
   ]
  },
  {
   "cell_type": "markdown",
   "metadata": {},
   "source": [
    "Try experimenting with your own shapes as shown in the example below (shape = 3):"
   ]
  },
  {
   "cell_type": "code",
   "execution_count": 15,
   "metadata": {},
   "outputs": [
    {
     "name": "stdout",
     "output_type": "stream",
     "text": [
      "ones = [1. 1. 1.]\n"
     ]
    }
   ],
   "source": [
    "print(\"ones = \"+ str(ones([3])))"
   ]
  },
  {
   "cell_type": "markdown",
   "metadata": {},
   "source": [
    "### 1.5 - Prepare Training & Test data\n",
    "\n",
    "Now we have our one-hot encoding function, we can now prepare our Training & Test Images (X_train, X_test).\n",
    "\n",
    "First, we want to flatten out our training and test data, then normalize it (i.e. `/255.`).\n",
    "\n",
    "We the use our one-hot function to prepare our training and test labels (Y) data."
   ]
  },
  {
   "cell_type": "code",
   "execution_count": 16,
   "metadata": {},
   "outputs": [
    {
     "name": "stdout",
     "output_type": "stream",
     "text": [
      "number of training examples = 5376\n",
      "number of test examples = 1344\n",
      "X_train shape: (12288, 5376)\n",
      "Y_train shape: (13, 5376)\n",
      "X_test shape: (12288, 1344)\n",
      "Y_test shape: (13, 1344)\n"
     ]
    }
   ],
   "source": [
    "# Flatten the training and test images\n",
    "X_train_flatten = X_train_orig.reshape(X_train_orig.shape[0], -1).T\n",
    "X_test_flatten = X_test_orig.reshape(X_test_orig.shape[0], -1).T\n",
    "\n",
    "# Normalize image Vectors\n",
    "X_train = X_train_flatten/255.\n",
    "X_test = X_test_flatten/255.\n",
    "\n",
    "# Convert training and test labels to one hot matrix\n",
    "Y_train = convert_to_one_hot(Y_train_orig, 13)\n",
    "Y_test = convert_to_one_hot(Y_test_orig, 13)\n",
    "\n",
    "print(\"number of training examples = \"+str(X_train.shape[1]))\n",
    "print(\"number of test examples = \"+str(X_test.shape[1]))\n",
    "print(\"X_train shape: \"+str(X_train.shape))\n",
    "print(\"Y_train shape: \"+str(Y_train.shape))\n",
    "print(\"X_test shape: \"+str(X_test.shape))\n",
    "print(\"Y_test shape: \"+str(Y_test.shape))\n",
    "\n"
   ]
  },
  {
   "cell_type": "markdown",
   "metadata": {},
   "source": [
    "### 1.6 - Create Placeholders\n",
    "\n",
    "The next task is to create placeholders for `X` and `Y`. \n",
    "This will allow us to pass in our training data later when you run your session. "
   ]
  },
  {
   "cell_type": "code",
   "execution_count": 17,
   "metadata": {},
   "outputs": [],
   "source": [
    "def create_placeholders(n_x, n_y):\n",
    "    \"\"\"\n",
    "    Creates the placeholders for the tensorflow session\n",
    "    \n",
    "    Arguments:\n",
    "    n_x -- scalar, size of an image vector (num_px * num_px = 64 * 64 * 3 = 12288)\n",
    "    n_y -- scalar, number of classes (from 0 to 12, so -> 13)\n",
    "    \n",
    "    Returns:\n",
    "    X -- placeholder for the data input, of shape [n_x, None] and dtype \"float\"\n",
    "    Y -- placeholder for the input labels, of shape [n_y, None] and dtype \"float\"\n",
    "    \n",
    "    Tips:\n",
    "    We use None because it allows us to be flexible \n",
    "    on the number of examples you will use for the placeholders.\n",
    "    \n",
    "    In fact, the number of examples during test/train are different    \n",
    "    \"\"\"\n",
    "    \n",
    "    X = tf.placeholder(tf.float32,[n_x, None], name=\"X\")\n",
    "    Y = tf.placeholder(tf.float32,[n_y, None], name=\"Y\")\n",
    "    \n",
    "    return X, Y"
   ]
  },
  {
   "cell_type": "code",
   "execution_count": 18,
   "metadata": {},
   "outputs": [
    {
     "name": "stdout",
     "output_type": "stream",
     "text": [
      "X = Tensor(\"X_4:0\", shape=(12288, ?), dtype=float32)\n",
      "Y = Tensor(\"Y_2:0\", shape=(13, ?), dtype=float32)\n"
     ]
    }
   ],
   "source": [
    "X,Y = create_placeholders(12288, 13)\n",
    "print (\"X = \"+str(X))\n",
    "print (\"Y = \"+str(Y))"
   ]
  },
  {
   "cell_type": "markdown",
   "metadata": {},
   "source": [
    "## 2. Design Neural Network \n",
    "\n",
    "Now we get to defining the architecture of our neural network. \n",
    "For this problem, I will be using a 3-Layer Network designed as follows:\n",
    "\n",
    "<img src=\"images/notebook/NN_architecture.png\" style=\"width:650px;height:400px;\">\n",
    "\n",
    "<caption><center> <u>3-layer Neural Network</u> <br><p>The model can be summarized as: INPUT -> LINEAR -> RELU -> LINEAR -> RELU -> LINEAR -> SOFTMAX -> OUTPUT. </center></caption>\n",
    "\n",
    "<u>Detailed Architecture</u>:\n",
    "- The input is a (64,64,3) image which is flattened to a vector of size $(12288,1)$. \n",
    "- The corresponding vector: $[x_0,x_1,...,x_{12288}]^T$ is then multiplied by the weight matrix $W^{[1]}$ of size $(n^{[1]}, 12288)$.\n",
    "- You then add a bias term and take its relu to get the following vector: $[a_0^{[1]}, a_1^{[1]},..., a_{n^{[1]}-1}^{[1]}]^T$.\n",
    "- You then repeat the same process for the 2nd.\n",
    "- You multiply the resulting vector by $W^{[2]}$ and add your intercept (bias). \n",
    "- You then repeat the same process for the 3rd layer.\n",
    "- You multiply the resulting vector by $W^{[3]}$ and add your intercept (bias). \n",
    "- Finally, you take the Softmax of the result and calculate the loss function.\n",
    "\n",
    "The usual process to follow for a neural network is as follows:\n",
    "    1. Initialize parameters / Define hyperparameters\n",
    "    2. Loop for num_iterations:\n",
    "        a. Forward propagation\n",
    "        b. Compute cost function\n",
    "        c. Backward propagation (Computed automatically by TensorFlow framework. No need to implement)\n",
    "        d. Update parameters (using parameters, and grads from backprop) \n",
    "    4. Use trained parameters to predict labels\n",
    "\n",
    "### 2.1 Initialize Parameters\n",
    "\n",
    "The next task is to initialize the parameters in our tensorflow.\n",
    "\n",
    "We will implement a function to initialize our parameters using Xavier Initialization for Weights, and Zero initialization for biases."
   ]
  },
  {
   "cell_type": "code",
   "execution_count": 19,
   "metadata": {},
   "outputs": [],
   "source": [
    "def initialize_parameters():\n",
    "    \"\"\"\n",
    "    Initializes the parameters to build the neural network with tensorflow.\n",
    "    The shapes are:\n",
    "                    W1: [26, 12288]\n",
    "                    b1: [26, 1]\n",
    "                    W2: [26, 26]\n",
    "                    b2: [26, 1]\n",
    "                    W3: [13, 26]\n",
    "                    b3: [13, 1]\n",
    "    The Weights are initialized using Xavier initialization and the biases\n",
    "    are initialized using zero initialization\n",
    "    \n",
    "    Returns:\n",
    "    parameters -- a dictionary of tensors containing W1, b1, W2, b2, W3, b3\n",
    "    \"\"\"\n",
    "    \n",
    "    \"\"\"\n",
    "    # Uncomment to load existing trained parameters\n",
    "    parameters = np.load(filename)\n",
    "    \"\"\"\n",
    "    tf.set_random_seed(random_seed_value)\n",
    "            \n",
    "    W1 = tf.get_variable(\"W1\",[26,12288], initializer = tf.contrib.layers.xavier_initializer(seed=1))\n",
    "    b1 = tf.get_variable(\"b1\",[26,1], initializer = tf.zeros_initializer())\n",
    "    W2 = tf.get_variable(\"W2\",[26,26], initializer = tf.contrib.layers.xavier_initializer(seed=1))\n",
    "    b2 = tf.get_variable(\"b2\",[26,1], initializer = tf.zeros_initializer())\n",
    "    W3 = tf.get_variable(\"W3\",[13,26], initializer = tf.contrib.layers.xavier_initializer(seed=1))\n",
    "    b3 = tf.get_variable(\"b3\",[13,1], initializer = tf.zeros_initializer())\n",
    "            \n",
    "    parameters = {\"W1\": W1,\n",
    "                  \"b1\": b1,\n",
    "                  \"W2\": W2,\n",
    "                  \"b2\": b2,\n",
    "                  \"W3\": W3,\n",
    "                  \"b3\": b3}\n",
    "    \n",
    "    return parameters"
   ]
  },
  {
   "cell_type": "code",
   "execution_count": 20,
   "metadata": {},
   "outputs": [
    {
     "name": "stdout",
     "output_type": "stream",
     "text": [
      "W1 = <tf.Variable 'W1:0' shape=(26, 12288) dtype=float32_ref>\n",
      "b1 = <tf.Variable 'b1:0' shape=(26, 1) dtype=float32_ref>\n",
      "W2 = <tf.Variable 'W2:0' shape=(26, 26) dtype=float32_ref>\n",
      "b2 = <tf.Variable 'b2:0' shape=(26, 1) dtype=float32_ref>\n",
      "W3 = <tf.Variable 'W3:0' shape=(13, 26) dtype=float32_ref>\n",
      "b3 = <tf.Variable 'b3:0' shape=(13, 1) dtype=float32_ref>\n"
     ]
    }
   ],
   "source": [
    "tf.reset_default_graph()\n",
    "with tf.Session() as sess:\n",
    "    parameters = initialize_parameters()\n",
    "    print(\"W1 = \"+str(parameters[\"W1\"]))\n",
    "    print(\"b1 = \"+str(parameters[\"b1\"]))\n",
    "    print(\"W2 = \"+str(parameters[\"W2\"]))\n",
    "    print(\"b2 = \"+str(parameters[\"b2\"]))\n",
    "    print(\"W3 = \"+str(parameters[\"W3\"]))\n",
    "    print(\"b3 = \"+str(parameters[\"b3\"]))"
   ]
  },
  {
   "cell_type": "markdown",
   "metadata": {},
   "source": [
    "### 2.2 Implement Forward propagation in tensorflow\n",
    "\n",
    "Now we can implement our forward propagation function. The function will take in a dictionary of parameters and it will complete the forward pass.\n",
    "\n",
    "As this is a 3-layer network, our weights and biases are calculated as follows:\n",
    "\n",
    "- Z1 = W1.X + b1\n",
    "- A1 = Relu(Z1)\n",
    "- Z2 = W2.A1 + b2\n",
    "- A2 = Relu(Z2)\n",
    "- Z3 = W3.A2 + b3\n",
    "\n",
    "Note: In tensorflow, the last linear layer output (Z3) is given as input to the loss function. "
   ]
  },
  {
   "cell_type": "code",
   "execution_count": 21,
   "metadata": {},
   "outputs": [],
   "source": [
    "def forward_propagation(X, parameters, isRegularized=False):\n",
    "    \"\"\"\n",
    "    Implements the forward propogation for the model: LINEAR->RELU->LINEAR->RELU->LINEAR->SOFTMAX\n",
    "    \n",
    "    Arguments:\n",
    "    X -- input data placeholder of shape (input size, number of examples)\n",
    "    parameters:python dictionary containing the params of the NN : \"W1\", \"b1\", \"W2\", \"b2\", \"W3\", \"b3\"\n",
    "               the shapes are given in initialize_parameters\n",
    "    isRegularized: Boolean flag which determines if we use regularization or not \n",
    "                  note this is useful when we implement Dropout as we cannot regularize on the test set\n",
    "    Returns:\n",
    "    Z3 -- the output of the last LINEAR unit\n",
    "    \"\"\"\n",
    "    \n",
    "    # Retrieve the parameters from the dictionary \"parameters\"\n",
    "    W1 = parameters['W1']\n",
    "    b1 = parameters['b1']\n",
    "    W2 = parameters['W2']\n",
    "    b2 = parameters['b2']\n",
    "    W3 = parameters['W3']\n",
    "    b3 = parameters['b3']\n",
    "    \n",
    "    # Regularize the Weights W1, W2 & W3.\n",
    "    # Note we dont regularize the Biases\n",
    "    regularizers = 0\n",
    "    \n",
    "    if isRegularized:\n",
    "        regularizers = tf.nn.l2_loss(W1)+tf.nn.l2_loss(W2)+tf.nn.l2_loss(W3)\n",
    "\n",
    "        \n",
    "        \n",
    "    \n",
    "    # Numpy equivalent: Z1 = np.dot(W1, X) + b1\n",
    "    Z1 = tf.add(tf.matmul(W1,X),b1)\n",
    "    # Numpy equivalent: A1 = relu(Z1)\n",
    "    A1 = tf.nn.relu(Z1)\n",
    "    # Numpy equivalent: Z2 = np.dot(W2, A1) + b2\n",
    "    Z2 = tf.add(tf.matmul(W2,A1),b2)\n",
    "    # Numpy equivalent: A2 = relu(Z2)\n",
    "    A2 = tf.nn.relu(Z2)\n",
    "    # Numpy equivalent: Z3 = np.dot(W3, A2) + b3\n",
    "    Z3 = tf.add(tf.matmul(W3,A2),b3)\n",
    "    \n",
    "    return Z3, regularizers\n",
    "    "
   ]
  },
  {
   "cell_type": "code",
   "execution_count": 22,
   "metadata": {},
   "outputs": [
    {
     "name": "stdout",
     "output_type": "stream",
     "text": [
      "Z3 = Tensor(\"Add_2:0\", shape=(13, ?), dtype=float32)\n",
      "Regularizers = 0\n"
     ]
    }
   ],
   "source": [
    "tf.reset_default_graph()\n",
    "\n",
    "with tf.Session() as sess:\n",
    "    X, Y = create_placeholders(12288,13)\n",
    "    parameters = initialize_parameters()\n",
    "    Z3, regularizers = forward_propagation(X, parameters, False)\n",
    "    print(\"Z3 = \"+str(Z3))\n",
    "    print(\"Regularizers = \"+str(regularizers))"
   ]
  },
  {
   "cell_type": "markdown",
   "metadata": {},
   "source": [
    "### 2.3 Compute Cost\n",
    "\n",
    "The cost function will be computed using Softmax.\n",
    "In tensorflow, this is relatively easy to implement in one line:\n",
    "```python\n",
    "tf.reduce_mean(tf.nn.softmax_cross_entropy_with_logits(logits = ..., labels = ...))\n",
    "```\n",
    "\n",
    "- It is important to know that the \"`logits`\" and \"`labels`\" inputs of `tf.nn.softmax_cross_entropy_with_logits` are expected to be of shape (number of examples, num_classes). We have thus transposed Z3 and Y for you.\n",
    "- Besides, `tf.reduce_mean` basically does the summation over the examples.\n"
   ]
  },
  {
   "cell_type": "code",
   "execution_count": 23,
   "metadata": {},
   "outputs": [],
   "source": [
    "def compute_cost(Z3, Y, regularizers):\n",
    "    \"\"\"\n",
    "    Computes the cost\n",
    "    \n",
    "    Arguments:\n",
    "    Z3 -- Output of forward propagation (output of the last LINEAR unit), of shape (13, number of examples)\n",
    "    Y -- \"true\" labels vector placeholder, same shape as Z3\n",
    "    \n",
    "    Returns:\n",
    "    cost - Tensor of the cost function\n",
    "    \"\"\"\n",
    "    beta = 0.01\n",
    "    \n",
    "    # Transposed to fit the tensorflow requirement for tf.nn.softmax_cross_entropy_with_logits(...,...)\n",
    "    logits = tf.transpose(Z3)\n",
    "    labels = tf.transpose(Y)\n",
    "    \n",
    "    # Note: tf.nn.softmax_cross_entropy_with_logits is deprecated.\n",
    "    # using tf.nn.softmax_cross_entropy_with_logits_v2\n",
    "    loss = tf.reduce_mean(tf.nn.softmax_cross_entropy_with_logits_v2(logits = logits, labels = labels))\n",
    "    \n",
    "    cost = tf.reduce_mean(loss + beta * regularizers)\n",
    "    \n",
    "    return cost"
   ]
  },
  {
   "cell_type": "code",
   "execution_count": 24,
   "metadata": {},
   "outputs": [
    {
     "name": "stdout",
     "output_type": "stream",
     "text": [
      "cost = Tensor(\"Mean_1:0\", shape=(), dtype=float32)\n"
     ]
    }
   ],
   "source": [
    "tf.reset_default_graph()\n",
    "\n",
    "with tf.Session() as sess:\n",
    "    X, Y = create_placeholders(12288, 13)\n",
    "    parameters = initialize_parameters()\n",
    "    Z3, regularizers = forward_propagation(X, parameters)\n",
    "    cost = compute_cost(Z3, Y, regularizers)\n",
    "    print(\"cost = \"+str(cost))"
   ]
  },
  {
   "cell_type": "markdown",
   "metadata": {},
   "source": [
    "### 2.4 Backward propagation & parameter updates\n",
    "\n",
    "Now thanks to the ease of use of Tensorflow, all back propagation and parameter updates are taken care of in a single line of code.\n",
    "\n",
    "After we compute the cost function, we will create an \"optimizer\" object. This will perform an optimization on the given cost, with the chosen method and learning rate.\n",
    "\n",
    "For instance, for gradient descent, the optimizer would be:\n",
    "\n",
    "```python\n",
    "optimizer = tf.train.GradientDescentOptimizer(learning_rate = learning_rate).minimize(cost)\n",
    "```\n",
    "\n",
    "In our case, we will be using the Adam Optimizer algorithm. \n",
    "\n",
    "```python\n",
    "optimizer = tf.train.AdamOptimizer(learning_rate = learning_rate).minimize(cost)\n",
    "```\n",
    "\n",
    "To make the optimization, we would perform the following:\n",
    "\n",
    "```python\n",
    "_ , c = sess.run([optimizer, cost], feed_dict={X: minibatch_X, Y: minibatch_Y})\n",
    "```\n",
    "\n",
    "This computes the back propagation by passing through the tensorflow graph in reverse order, from costs back to inputs."
   ]
  },
  {
   "cell_type": "markdown",
   "metadata": {},
   "source": [
    "### 2.5 Building the model\n",
    "\n",
    "Now we can put our entire Neural Network model together, using the helper functions defined above.\n",
    "\n",
    "Hyper-parameters Used:\n",
    "- Learning rate: 0.0001\n",
    "- Mini-batch size: 32\n",
    "\n"
   ]
  },
  {
   "cell_type": "code",
   "execution_count": 25,
   "metadata": {},
   "outputs": [],
   "source": [
    "def model(X_train, Y_train, X_test, Y_test, learning_rate = 0.0001,\n",
    "          num_epochs = 2000, minibatch_size = 32, print_cost = True, isRegularized=False):\n",
    "    \"\"\"\n",
    "    Implements a three-layer tensorflow neural network: LINEAR->RELU->LINEAR->RELU->LINEAR->SOFTMAX\n",
    "    \n",
    "    Arguments:\n",
    "    X_train -- training set (X) of shape (input size = 12288)\n",
    "    Y_train -- labels of training set \n",
    "    X_test  -- test set (X) of shape (input size = 12288)\n",
    "    Y_test  -- labels of test set\n",
    "    \n",
    "    Hyper-Parameters:\n",
    "    learning_rate -- learning rate of the optimization\n",
    "    num_epochs    -- number of epochs of the optimization loop\n",
    "    \n",
    "    Others:\n",
    "    minibatch_size -- Size of a minibatch\n",
    "    print_cost -- True to print the cost every 100 epochs\n",
    "    \n",
    "    Returns:\n",
    "    parameters -- parameters learnt by the model. They can then be used to run predictions on new pictures\n",
    "    \"\"\"\n",
    "    \n",
    "    # Allows us to rerun the model without overwritting the tf variables\n",
    "    ops.reset_default_graph()\n",
    "    # Set the random seed\n",
    "    tf.set_random_seed(random_seed_value)\n",
    "    seed = 3\n",
    "    # (n_x: input size, m: number of examples in training set)\n",
    "    (n_x, m) = X_train.shape\n",
    "    # n_y: output size\n",
    "    n_y = Y_train.shape[0]\n",
    "    # Stores the costs for each epoch\n",
    "    costs = []\n",
    "    \n",
    "    # create Placeholders of shape (n_x, n_y)\n",
    "    X, Y = create_placeholders(n_x, n_y)\n",
    "    \n",
    "    # Initialize parameters\n",
    "    parameters =  initialize_parameters()\n",
    "    \n",
    "    # Run forward propagation: Build the forward propagation in the tensorflow graph\n",
    "    Z3, regularizers = forward_propagation(X, parameters, isRegularized=isRegularized)\n",
    "    \n",
    "    # Cost function: Add cost function to tensorflow graph\n",
    "    cost = compute_cost(Z3, Y, regularizers)\n",
    "    \n",
    "    # Backpropagation: Define the tensorflow optimizer, using an AdamOptimizer\n",
    "    optimizer = tf.train.AdamOptimizer(learning_rate=learning_rate).minimize(cost)\n",
    "    \n",
    "    # Initialize all global variables\n",
    "    init = tf.global_variables_initializer()\n",
    "    \n",
    "    # Start the session to compute the tensorflow graph\n",
    "    with tf.Session() as sess:\n",
    "        \n",
    "        # Run the initialization\n",
    "        sess.run(init)\n",
    "        \n",
    "        # Do the training loop for an epoch\n",
    "        for epoch in range(num_epochs):\n",
    "            # Defines a cost related to an epoch\n",
    "            epoch_cost = 0.\n",
    "            # compute the number of minibatches in the training set\n",
    "            num_minibatches = int(m/minibatch_size)\n",
    "            seed = seed+1\n",
    "            minibatches = random_mini_batches(X_train, Y_train, minibatch_size, seed)\n",
    "            \n",
    "            # loop through the minibatches\n",
    "            for minibatch in minibatches:\n",
    "                \n",
    "                # Select a minibatch\n",
    "                (minibatch_X, minibatch_Y) = minibatch\n",
    "                \n",
    "                # IMPORTANT: This line runs the graph on a minibatch\n",
    "                # Run the session to execute the \"optimizer\" and the \"cost\"\n",
    "                # the feedict should contain a minibatch for (X, Y)\n",
    "                _ , minibatch_cost = sess.run([optimizer, cost], feed_dict={X: minibatch_X, Y: minibatch_Y})\n",
    "                \n",
    "                epoch_cost += minibatch_cost / num_minibatches\n",
    "                \n",
    "            # Print the cost every epoch\n",
    "            if print_cost == True and epoch % 100 == 0:\n",
    "                print(\"Cost after epoch %i: %f\" % (epoch, epoch_cost))\n",
    "            if print_cost == True and epoch % 5 == 0:\n",
    "                costs.append(epoch_cost)\n",
    "                \n",
    "        # Plot the cost\n",
    "        plt.plot(np.squeeze(costs))\n",
    "        plt.ylabel('cost')\n",
    "        plt.xlabel('iterations (per tens)')\n",
    "        plt.title(\"Learning rate = \"+str(learning_rate))\n",
    "        plt.show()\n",
    "        \n",
    "        # Save the parameters in a variable\n",
    "        parameters = sess.run(parameters)\n",
    "        print(\"Parameters have been trained!\")\n",
    "        \n",
    "        # Calculate the correct predictions\n",
    "        correct_prediction = tf.equal(tf.argmax(Z3) ,tf.argmax(Y))\n",
    "        \n",
    "        # Calculate the accuracy on the test set\n",
    "        accuracy = tf.reduce_mean(tf.cast(correct_prediction, \"float\"))\n",
    "        \n",
    "        print(\"Train Accuracy:\", accuracy.eval({X: X_train, Y: Y_train}))\n",
    "        print(\"Test Accuracy:\", accuracy.eval({X: X_test, Y: Y_test}))\n",
    "        \n",
    "        return parameters"
   ]
  },
  {
   "cell_type": "code",
   "execution_count": 26,
   "metadata": {},
   "outputs": [
    {
     "name": "stdout",
     "output_type": "stream",
     "text": [
      "Cost after epoch 0: 1.348085\n"
     ]
    },
    {
     "data": {
      "image/png": "[encoded data removed]",
      "text/plain": [
       "<Figure size 432x288 with 1 Axes>"
      ]
     },
     "metadata": {
      "needs_background": "light"
     },
     "output_type": "display_data"
    },
    {
     "name": "stdout",
     "output_type": "stream",
     "text": [
      "Parameters have been trained!\n",
      "Train Accuracy: 0.968936\n",
      "Test Accuracy: 0.93154764\n",
      "Total Training Time: 81.10490775108337 secs\n"
     ]
    }
   ],
   "source": [
    "start = time.time()\n",
    "parameters = model(X_train, Y_train, X_test, Y_test,learning_rate = 0.001,num_epochs = 100, isRegularized=False)\n",
    "end = time.time()\n",
    "print(\"Total Training Time: \"+str(end - start)+\" secs\")"
   ]
  },
  {
   "cell_type": "markdown",
   "metadata": {},
   "source": [
    "The model will run through the iteration of Epochs, calculating a cost for each epoch.\n",
    "On my machine, it takes approximately 80 secs to iterate through 100 epochs on a standard Nvidia GPU with compute capacity: 6.1\n",
    "\n",
    "If all proceeds as planned, you should get the following results:\n",
    "\n",
    "**Expected Output**:\n",
    "\n",
    "<table> \n",
    "    <tr> \n",
    "        <td>\n",
    "            **Train Accuracy**\n",
    "        </td>\n",
    "        <td>\n",
    "        0.968936\n",
    "        </td>\n",
    "    </tr>\n",
    "    <tr> \n",
    "        <td>\n",
    "            **Test Accuracy**\n",
    "        </td>\n",
    "        <td>\n",
    "        0.93154764\n",
    "        </td>\n",
    "    </tr>\n",
    "\n",
    "</table>\n",
    "\n",
    "This is pretty good. **~93%** accuracy on our test set is impressive. \n",
    "We might be able to improve this by adding Regularization. "
   ]
  },
  {
   "cell_type": "markdown",
   "metadata": {},
   "source": [
    "### 2.6 Run Model with Regularization\n",
    "\n",
    "**Feb 18th, 2019**:\n",
    "I implemented L2 Regularization in the cost function (compute_cost) and forward_propagation function.\n",
    "You can activate Regularization by setting isRegularized=True.\n",
    "\n",
    "Lets see what results we get:"
   ]
  },
  {
   "cell_type": "code",
   "execution_count": 27,
   "metadata": {},
   "outputs": [
    {
     "name": "stdout",
     "output_type": "stream",
     "text": [
      "Cost after epoch 0: 2.013550\n",
      "Cost after epoch 100: 0.396718\n",
      "Cost after epoch 200: 0.352934\n",
      "Cost after epoch 300: 0.332834\n",
      "Cost after epoch 400: 0.325678\n",
      "Cost after epoch 500: 0.315541\n",
      "Cost after epoch 600: 0.311791\n",
      "Cost after epoch 700: 0.311055\n",
      "Cost after epoch 800: 0.306908\n",
      "Cost after epoch 900: 0.308583\n",
      "Cost after epoch 1000: 0.301927\n",
      "Cost after epoch 1100: 0.300564\n",
      "Cost after epoch 1200: 0.302098\n",
      "Cost after epoch 1300: 0.298299\n",
      "Cost after epoch 1400: 0.301818\n",
      "Cost after epoch 1500: 0.299716\n",
      "Cost after epoch 1600: 0.294589\n",
      "Cost after epoch 1700: 0.300790\n",
      "Cost after epoch 1800: 0.289883\n",
      "Cost after epoch 1900: 0.293846\n"
     ]
    },
    {
     "data": {
      "image/png": "[encoded data removed]",
      "text/plain": [
       "<Figure size 432x288 with 1 Axes>"
      ]
     },
     "metadata": {
      "needs_background": "light"
     },
     "output_type": "display_data"
    },
    {
     "name": "stdout",
     "output_type": "stream",
     "text": [
      "Parameters have been trained!\n",
      "Train Accuracy: 0.97433037\n",
      "Test Accuracy: 0.9516369\n",
      "Total Training Time: 1316.8238253593445 secs\n"
     ]
    }
   ],
   "source": [
    "start = time.time()\n",
    "parameters = model(X_train, Y_train, X_test, Y_test, learning_rate = 0.0001, num_epochs = 2000, minibatch_size = 64, isRegularized=True)\n",
    "end = time.time()\n",
    "print(\"Total Training Time: \"+str(end - start)+\" secs\")"
   ]
  },
  {
   "cell_type": "markdown",
   "metadata": {},
   "source": [
    "**Expected Output**:\n",
    "<table> \n",
    "    <tr> \n",
    "        <td>\n",
    "            **Train Accuracy**\n",
    "        </td>\n",
    "        <td>\n",
    "        0.97433037\n",
    "        </td>\n",
    "    </tr>\n",
    "    <tr> \n",
    "        <td>\n",
    "            **Test Accuracy**\n",
    "        </td>\n",
    "        <td>\n",
    "        0.9516369\n",
    "        </td>\n",
    "    </tr>\n",
    "\n",
    "</table>\n",
    "\n",
    "We were able to slightly improve our Test Accuracy to **~95%** with regularization.\n",
    "This implies L2 Reg had a slight impact on reducing overfitting. \n"
   ]
  },
  {
   "cell_type": "markdown",
   "metadata": {},
   "source": [
    "## 3. Testing your own image\n",
    "\n",
    "Finally its time to test your own image.\n",
    "Select a chess piece from a chess board, cropped to focus just on the piece.\n",
    "The piece must be a 2 dimensional shape, though it can have any color.\n",
    "\n",
    "Here is an example of the kind of image expected in the algorithm:\n",
    "\n",
    "<img src=\"images/unknown_piece_2.jpg\" style=\"width:64px;height:64px;\">\n",
    "\n",
    "Dont worry about resizing your image. We will take care of that for you.\n",
    "\n",
    "To upload your image:\n",
    "\n",
    "    1. Click on \"File\" in the upper bar of this notebook, then click \"Open\" to go on your Coursera Hub.\n",
    "    2. Add your image to this Jupyter Notebook's directory, in the \"images\" folder\n",
    "    3. Write your image's name in the following code \n",
    "            my_image = \"{image_name.ext}\"\n",
    "    4. Run the code and check if the algorithm is right!"
   ]
  },
  {
   "cell_type": "code",
   "execution_count": 28,
   "metadata": {},
   "outputs": [
    {
     "name": "stdout",
     "output_type": "stream",
     "text": [
      "Your algorithm predicts: y = White Rook\n"
     ]
    },
    {
     "data": {
      "image/png": "[encoded data removed]",
      "text/plain": [
       "<Figure size 432x288 with 1 Axes>"
      ]
     },
     "metadata": {
      "needs_background": "light"
     },
     "output_type": "display_data"
    }
   ],
   "source": [
    "import scipy\n",
    "from PIL import Image\n",
    "from scipy import ndimage\n",
    "\n",
    "\"\"\"\n",
    "TEST CELL\n",
    "Test with manually sellected image\n",
    "\"\"\"\n",
    "# Select image to import\n",
    "my_image = \"w_rook_11.jpg\"\n",
    "\n",
    "# Preprocess the image to fit the algorithm\n",
    "fname = \"images/\"+my_image\n",
    "image = np.array(plt.imread(fname))\n",
    "my_image = np.array(Image.fromarray(image).resize((64,64),Image.BILINEAR)).reshape((1, 64*64*3)).T\n",
    "my_image_prediction = predict(my_image, parameters)\n",
    "\n",
    "plt.imshow(image)\n",
    "pieceLabel = select_piece_labels(conn, str(np.squeeze(my_image_prediction)))\n",
    "print(\"Your algorithm predicts: y = \"+str(pieceLabel[0][2]))\n",
    "\n"
   ]
  },
  {
   "cell_type": "markdown",
   "metadata": {},
   "source": [
    "Well thats it! This is my first Neural Network built for my own use-case.\n",
    "Once I implement regularization, my next step is to wrap this into a RESTful service and use-it in a chess application which I have been working on for ever. \n",
    "\n",
    "I hope you enjoyed reading this, or you find my experience useful in your own projects. Feel free to mess around and try different learning rates and NN architectures.\n",
    "\n",
    "If you have any ideas on how to further improve my NN, please feel free to share your ideas.\n",
    "\n",
    "Cheers!"
   ]
  },
  {
   "cell_type": "markdown",
   "metadata": {},
   "source": [
    "Finally, save the trained weights to a file: **db/trained_weights.npy**"
   ]
  },
  {
   "cell_type": "code",
   "execution_count": 29,
   "metadata": {},
   "outputs": [],
   "source": [
    "# Save the neural network weights\n",
    "def save():\n",
    "    np.savez(filename, parameters)\n",
    "    pass"
   ]
  },
  {
   "cell_type": "code",
   "execution_count": 30,
   "metadata": {},
   "outputs": [],
   "source": [
    "save()"
   ]
  },
  {
   "cell_type": "markdown",
   "metadata": {},
   "source": [
    "Now try loading the trained weights and test it on a different image."
   ]
  },
  {
   "cell_type": "code",
   "execution_count": 31,
   "metadata": {},
   "outputs": [
    {
     "name": "stdout",
     "output_type": "stream",
     "text": [
      "Your algorithm predicts: y = 5:White Queen\n"
     ]
    },
    {
     "data": {
      "image/png": "[encoded data removed]",
      "text/plain": [
       "<Figure size 432x288 with 1 Axes>"
      ]
     },
     "metadata": {
      "needs_background": "light"
     },
     "output_type": "display_data"
    }
   ],
   "source": [
    "import math\n",
    "import time\n",
    "import numpy as np\n",
    "import matplotlib.pyplot as plt\n",
    "import tensorflow as tf\n",
    "from io import BytesIO\n",
    "from tf_db_utils import create_connection, select_piece_labels\n",
    "from tf_nn_utils import predict\n",
    "from PIL import Image\n",
    "from scipy import ndimage\n",
    "\n",
    "# Link to database\n",
    "database=\"db/PiecesSQLite.db\"\n",
    "filename=\"db/trained_weights.npz\"\n",
    "\n",
    "%matplotlib inline\n",
    "random_seed_value = 1\n",
    "np.random.seed(random_seed_value)\n",
    "\n",
    "#Create a connection to the database\n",
    "conn = create_connection(database)\n",
    "\n",
    "\"\"\" \n",
    "Load pre-trained weights\n",
    "\"\"\"\n",
    "params = np.load(filename)\n",
    "loaded_weights = params['arr_0'].item()\n",
    "\n",
    "\"\"\"\n",
    "TEST CELL\n",
    "Test with manually sellected image\n",
    "\"\"\"\n",
    "# Select image to import\n",
    "my_image = \"unknown_piece_1.jpg\"\n",
    "\n",
    "# Preprocess the image to fit the algorithm\n",
    "fname = \"images/\"+my_image\n",
    "image = np.array(plt.imread(fname))\n",
    "my_image = np.array(Image.fromarray(image).resize((64,64),Image.BILINEAR)).reshape((1, 64*64*3)).T\n",
    "my_image_prediction = predict(my_image, loaded_weights)\n",
    "\n",
    "plt.imshow(image)\n",
    "pieceLabel = select_piece_labels(conn, str(np.squeeze(my_image_prediction)))\n",
    "print(\"Your algorithm predicts: y = \"+str(np.squeeze(my_image_prediction))+\":\"+str(pieceLabel[0][2]))\n"
   ]
  },
  {
   "cell_type": "code",
   "execution_count": null,
   "metadata": {},
   "outputs": [],
   "source": []
  },
  {
   "cell_type": "code",
   "execution_count": null,
   "metadata": {},
   "outputs": [],
   "source": []
  }
 ],
 "metadata": {
  "kernelspec": {
   "display_name": "Python 3",
   "language": "python",
   "name": "python3"
  },
  "language_info": {
   "codemirror_mode": {
    "name": "ipython",
    "version": 3
   },
   "file_extension": ".py",
   "mimetype": "text/x-python",
   "name": "python",
   "nbconvert_exporter": "python",
   "pygments_lexer": "ipython3",
   "version": "3.6.8"
  }
 },
 "nbformat": 4,
 "nbformat_minor": 2
}
